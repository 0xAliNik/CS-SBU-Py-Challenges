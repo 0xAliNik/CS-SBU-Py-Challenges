{
 "cells": [
  {
   "cell_type": "markdown",
   "id": "b120b3c2",
   "metadata": {},
   "source": [
    "# Challenge 1\n",
    "## capital indexes"
   ]
  },
  {
   "cell_type": "code",
   "execution_count": 1,
   "id": "04db889c",
   "metadata": {},
   "outputs": [],
   "source": [
    "def capital_indexes(input_string: str) -> list:\n",
    "    capital_indexes_list = []\n",
    "\n",
    "    for index, i in enumerate(input_string):\n",
    "        if i.isupper():\n",
    "            capital_indexes_list.append(index)\n",
    "\n",
    "    return capital_indexes_list"
   ]
  },
  {
   "cell_type": "markdown",
   "id": "5577e826",
   "metadata": {},
   "source": [
    "# Challenge 2\n",
    "## mid letter"
   ]
  },
  {
   "cell_type": "code",
   "execution_count": 86,
   "id": "05b7de50",
   "metadata": {},
   "outputs": [],
   "source": [
    "def mid(input_string):\n",
    "    input_string_len = len(input_string)\n",
    "    if (input_string_len % 2) == 0:\n",
    "        return(\"\")\n",
    "    else:        \n",
    "        #return input_string[int(((input_string_len + 1) / 2) - 1)]\n",
    "        #floor division\n",
    "        return input_string[input_string_len//2]"
   ]
  },
  {
   "cell_type": "code",
   "execution_count": 102,
   "id": "3f00b937",
   "metadata": {},
   "outputs": [],
   "source": [
    "def mid_one_line(input_string):\n",
    "    input_string_len = len(input_string)\n",
    "    # statement if condition else statement     \n",
    "    return input_string[input_string_len//2] if (input_string_len % 2) != 0 else \"\""
   ]
  },
  {
   "cell_type": "markdown",
   "id": "b346f016",
   "metadata": {},
   "source": [
    "# Challenge 3\n",
    "## online statuses"
   ]
  },
  {
   "cell_type": "code",
   "execution_count": 11,
   "id": "750c8799",
   "metadata": {},
   "outputs": [
    {
     "name": "stdout",
     "output_type": "stream",
     "text": [
      "python : 3.8\n",
      "ubuntu : 20.04\n"
     ]
    }
   ],
   "source": [
    "#  Dicts in Python\n",
    "d = {\"python\": 3.8, \"ubuntu\": 20.04}\n",
    "type(d)\n",
    "assert d.get(\"pythonx\") == None\n",
    "\n",
    "for key,value in d.items():\n",
    "    print(\"{} : {}\".format(key,value))"
   ]
  },
  {
   "cell_type": "code",
   "execution_count": 12,
   "id": "aabf4d09",
   "metadata": {},
   "outputs": [],
   "source": [
    "def online_count(input_dict):\n",
    "    online_count = 0\n",
    "    for value in input_dict.values():\n",
    "        if value == \"online\":\n",
    "            online_count += 1\n",
    "    return online_count"
   ]
  },
  {
   "cell_type": "markdown",
   "id": "f3ec2da6",
   "metadata": {},
   "source": [
    "# Challenge 4\n",
    "## randomness"
   ]
  },
  {
   "cell_type": "code",
   "execution_count": 41,
   "id": "d2ec51a3",
   "metadata": {},
   "outputs": [
    {
     "data": {
      "text/plain": [
       "1.1304995615250337"
      ]
     },
     "execution_count": 41,
     "metadata": {},
     "output_type": "execute_result"
    }
   ],
   "source": [
    "# random library\n",
    "import random\n",
    "\n",
    "# list(range(1,11, 2)\n",
    "\n",
    "random.uniform(1,10.5)\n"
   ]
  },
  {
   "cell_type": "code",
   "execution_count": 42,
   "id": "d3cc5b17",
   "metadata": {},
   "outputs": [],
   "source": [
    "import random\n",
    "def random_number():\n",
    "    # return random.randrange(1, 101)\n",
    "    return random.randint(1,100)"
   ]
  },
  {
   "cell_type": "markdown",
   "id": "b62c22fc",
   "metadata": {},
   "source": [
    "# Challenge 5\n",
    "## type check"
   ]
  },
  {
   "cell_type": "code",
   "execution_count": 44,
   "id": "bd68ec35",
   "metadata": {},
   "outputs": [],
   "source": [
    "def only_ints(a, b):\n",
    "    return True if (type(a) == int and type(b) == int) else False\n",
    "    "
   ]
  },
  {
   "cell_type": "markdown",
   "id": "e1c5733f",
   "metadata": {},
   "source": [
    "# Challenge 6\n",
    "## double letters"
   ]
  },
  {
   "cell_type": "code",
   "execution_count": null,
   "id": "8d4d7d54",
   "metadata": {},
   "outputs": [],
   "source": [
    "def double_letters(input_string):\n",
    "    if not input_string:\n",
    "        return False\n",
    "    for index, letter in enumerate(input_string):\n",
    "        if letter == input_string[index+1]:\n",
    "            return True\n",
    "        if index == len(input_string) - 2:\n",
    "            return False\n",
    "\n"
   ]
  },
  {
   "cell_type": "markdown",
   "id": "772e3ec4",
   "metadata": {},
   "source": [
    "# Challenge 7\n",
    "## adding and removing dots\n"
   ]
  },
  {
   "cell_type": "code",
   "execution_count": 48,
   "id": "7ce8bf20",
   "metadata": {},
   "outputs": [],
   "source": [
    "\n",
    "def add_dots(input_string):\n",
    "    return \".\".join(input_string)\n",
    "\n",
    "def remove_dots(input_string):\n",
    "    for i in input_string:\n",
    "        return input_string.replace('.','')\n"
   ]
  },
  {
   "cell_type": "code",
   "execution_count": 54,
   "id": "43d235a9",
   "metadata": {},
   "outputs": [],
   "source": [
    "add_dots(\"test\")\n",
    "assert remove_dots(add_dots(\"test\")) == \"test\""
   ]
  }
 ],
 "metadata": {
  "kernelspec": {
   "display_name": "Python 3 (ipykernel)",
   "language": "python",
   "name": "python3"
  },
  "language_info": {
   "codemirror_mode": {
    "name": "ipython",
    "version": 3
   },
   "file_extension": ".py",
   "mimetype": "text/x-python",
   "name": "python",
   "nbconvert_exporter": "python",
   "pygments_lexer": "ipython3",
   "version": "3.8.10"
  }
 },
 "nbformat": 4,
 "nbformat_minor": 5
}
