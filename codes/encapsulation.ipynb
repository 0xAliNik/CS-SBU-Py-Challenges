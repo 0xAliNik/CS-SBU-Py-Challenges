{
 "cells": [
  {
   "cell_type": "code",
   "execution_count": 2,
   "metadata": {},
   "outputs": [],
   "source": [
    "# Capsul\n",
    "\n",
    "# Encapsulation Definition\n",
    "#  > Hiding Data\n",
    "\n",
    "# Single Underscore (_) (Convention) (non-public) (var/Method)\n",
    "    #   >  self._attr\n",
    "# Double Underscore (__) (Private) (var/Method)\n",
    "    #  Getter Methods for getting attribute's value\n",
    "    #  Setter Methods for setting attribute's value"
   ]
  },
  {
   "cell_type": "code",
   "execution_count": 9,
   "metadata": {},
   "outputs": [],
   "source": [
    "class Person:\n",
    "\n",
    "    def __init__(self, name, age):\n",
    "        self._name = name\n",
    "        self._age = age\n",
    "\n",
    "    def _get_name(self):\n",
    "        return self._name\n",
    "    \n",
    "    def _get_age(self):\n",
    "        return self._age\n"
   ]
  },
  {
   "cell_type": "code",
   "execution_count": 10,
   "metadata": {},
   "outputs": [],
   "source": [
    "person  = Person(\"Ali\", 20)"
   ]
  },
  {
   "cell_type": "code",
   "execution_count": 12,
   "metadata": {},
   "outputs": [
    {
     "data": {
      "text/plain": [
       "30"
      ]
     },
     "execution_count": 12,
     "metadata": {},
     "output_type": "execute_result"
    }
   ],
   "source": [
    "person.get_age()\n",
    "person._age = 30\n",
    "person._age"
   ]
  },
  {
   "cell_type": "code",
   "execution_count": 51,
   "metadata": {},
   "outputs": [],
   "source": [
    "class Person:\n",
    "\n",
    "    def __init__(self, name, age):\n",
    "        self.__name = name\n",
    "        self.__age = age\n",
    "\n",
    "    # Getter\n",
    "    def get_name(self):\n",
    "        return self.__name\n",
    "    \n",
    "    # Getter\n",
    "    def get_age(self):\n",
    "        return self.__age\n",
    "\n",
    "    # Setter\n",
    "    def set_age(self, value):\n",
    "        if not isinstance(value, int):\n",
    "            raise ValueError(\"Age must be an Integer\")    \n",
    "        self.__age = value"
   ]
  },
  {
   "cell_type": "code",
   "execution_count": 52,
   "metadata": {},
   "outputs": [],
   "source": [
    "person  = Person(\"Ali\", 20)"
   ]
  },
  {
   "cell_type": "code",
   "execution_count": 60,
   "metadata": {},
   "outputs": [],
   "source": [
    "import re\n",
    "\n",
    "class EmailValidator:\n",
    "\n",
    "    def __init__(self, min_length, mails, domains):\n",
    "        self.min_length = min_length\n",
    "        self.mails = mails\n",
    "        self.domains = domains\n",
    "\n",
    "    def __validate_name(self, name):\n",
    "        return name and self.min_length <= len(name)\n",
    "\n",
    "    def __validate_mail(self, mail):\n",
    "        return mail in self.mails\n",
    "\n",
    "    def __validate_domain(self, domain):\n",
    "            return domain in self.domains\n",
    "    \n",
    "\n",
    "    def validate(self, email):\n",
    "        # mail = \"ali@gmail.com\"\n",
    "        name, mail, domain = re.split(r\"[@.]\", email)\n",
    "        return self.__validate_name(name) and self.__validate_mail(mail) and self.__validate_domain(domain)"
   ]
  },
  {
   "cell_type": "code",
   "execution_count": 66,
   "metadata": {},
   "outputs": [
    {
     "data": {
      "text/plain": [
       "False"
      ]
     },
     "execution_count": 66,
     "metadata": {},
     "output_type": "execute_result"
    }
   ],
   "source": [
    "mails = [\"gmail\", \"yahoo\"]\n",
    "domains = [\"com\"]\n",
    "\n",
    "email_validator = EmailValidator(6, mails, domains)\n",
    "\n",
    "email_validator.validate(\"aliiii@gmail.co\")\n",
    "\n"
   ]
  },
  {
   "cell_type": "code",
   "execution_count": 89,
   "metadata": {},
   "outputs": [],
   "source": [
    "class Mammal:\n",
    "    \n",
    "    # Private Class Attribute\n",
    "    __kingdom = \"animals\"\n",
    "\n",
    "    def __init__(self, name, type, sound):\n",
    "        self.name = name\n",
    "        self.type = type\n",
    "        self.sound = sound\n",
    "\n",
    "    def make_sound(self):\n",
    "        # \"{name} makes {sound}\"\n",
    "        return f\"{self.name} makes {self.sound}\"\n",
    "    \n",
    "    def info(self):\n",
    "        # \"{name} is of type {type}\"\n",
    "        return f\"{self.name} is of type {self.type}\"\n",
    "\n",
    "    @staticmethod\n",
    "    def get_kingdom():\n",
    "        return Mammal.__kingdom"
   ]
  },
  {
   "cell_type": "code",
   "execution_count": 90,
   "metadata": {},
   "outputs": [],
   "source": [
    "mammal = Mammal(\"Dog\", \"Domestic\", \"Bark\")"
   ]
  },
  {
   "cell_type": "code",
   "execution_count": 91,
   "metadata": {},
   "outputs": [
    {
     "data": {
      "text/plain": [
       "'Dog makes Bark'"
      ]
     },
     "execution_count": 91,
     "metadata": {},
     "output_type": "execute_result"
    }
   ],
   "source": [
    "mammal.make_sound()"
   ]
  },
  {
   "cell_type": "code",
   "execution_count": 92,
   "metadata": {},
   "outputs": [
    {
     "data": {
      "text/plain": [
       "'Dog is of type Domestic'"
      ]
     },
     "execution_count": 92,
     "metadata": {},
     "output_type": "execute_result"
    }
   ],
   "source": [
    "mammal.info()"
   ]
  },
  {
   "cell_type": "code",
   "execution_count": 93,
   "metadata": {},
   "outputs": [
    {
     "data": {
      "text/plain": [
       "'animals'"
      ]
     },
     "execution_count": 93,
     "metadata": {},
     "output_type": "execute_result"
    }
   ],
   "source": [
    "mammal.get_kingdom()"
   ]
  },
  {
   "cell_type": "code",
   "execution_count": 104,
   "metadata": {},
   "outputs": [],
   "source": [
    "class Account:\n",
    "\n",
    "    def __init__(self, id, balance, pin):\n",
    "        self.__id = id\n",
    "        self.balance = balance\n",
    "        self.__pin = pin\n",
    "    \n",
    "\n",
    "    def __check_pin(self, pin):\n",
    "        return self.__pin == pin\n",
    "\n",
    "    def get_id(self, pin):\n",
    "        # check pin\n",
    "        if not self.__check_pin(pin):\n",
    "            return \"Wrong pin\"\n",
    "        return self.__id\n",
    "\n",
    "    def change_pin(self, old_pin, new_pin):\n",
    "        # check pin\n",
    "        if not self.__check_pin(old_pin):\n",
    "            return \"Wrong pin\"\n",
    "        self.__pin = new_pin\n",
    "        return \"Pin Updated\""
   ]
  },
  {
   "cell_type": "code",
   "execution_count": 112,
   "metadata": {},
   "outputs": [
    {
     "data": {
      "text/plain": [
       "1"
      ]
     },
     "execution_count": 112,
     "metadata": {},
     "output_type": "execute_result"
    }
   ],
   "source": [
    "acc = Account(1, 100, 1234)\n",
    "acc.get_id(1234)"
   ]
  },
  {
   "cell_type": "code",
   "execution_count": 113,
   "metadata": {},
   "outputs": [
    {
     "data": {
      "text/plain": [
       "'Pin Updated'"
      ]
     },
     "execution_count": 113,
     "metadata": {},
     "output_type": "execute_result"
    }
   ],
   "source": [
    "acc.change_pin(1234, 2222)"
   ]
  },
  {
   "cell_type": "code",
   "execution_count": 114,
   "metadata": {},
   "outputs": [
    {
     "data": {
      "text/plain": [
       "100"
      ]
     },
     "execution_count": 114,
     "metadata": {},
     "output_type": "execute_result"
    }
   ],
   "source": []
  },
  {
   "cell_type": "code",
   "execution_count": null,
   "metadata": {},
   "outputs": [],
   "source": []
  }
 ],
 "metadata": {
  "interpreter": {
   "hash": "916dbcbb3f70747c44a77c7bcd40155683ae19c65e1c03b4aa3499c5328201f1"
  },
  "kernelspec": {
   "display_name": "Python 3.8.10 64-bit",
   "language": "python",
   "name": "python3"
  },
  "language_info": {
   "codemirror_mode": {
    "name": "ipython",
    "version": 3
   },
   "file_extension": ".py",
   "mimetype": "text/x-python",
   "name": "python",
   "nbconvert_exporter": "python",
   "pygments_lexer": "ipython3",
   "version": "3.8.10"
  },
  "orig_nbformat": 4
 },
 "nbformat": 4,
 "nbformat_minor": 2
}
